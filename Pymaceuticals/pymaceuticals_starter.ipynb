{
 "cells": [
  {
   "cell_type": "markdown",
   "metadata": {},
   "source": [
    "## Observations and Insights"
   ]
  },
  {
   "cell_type": "markdown",
   "metadata": {},
   "source": []
  },
  {
   "cell_type": "markdown",
   "metadata": {},
   "source": [
    "## Dependencies and starter code"
   ]
  },
  {
   "cell_type": "code",
   "execution_count": 1,
   "metadata": {},
   "outputs": [
    {
     "data": {
      "text/html": [
       "<div>\n",
       "<style scoped>\n",
       "    .dataframe tbody tr th:only-of-type {\n",
       "        vertical-align: middle;\n",
       "    }\n",
       "\n",
       "    .dataframe tbody tr th {\n",
       "        vertical-align: top;\n",
       "    }\n",
       "\n",
       "    .dataframe thead th {\n",
       "        text-align: right;\n",
       "    }\n",
       "</style>\n",
       "<table border=\"1\" class=\"dataframe\">\n",
       "  <thead>\n",
       "    <tr style=\"text-align: right;\">\n",
       "      <th></th>\n",
       "      <th>Mouse ID</th>\n",
       "      <th>Drug Regimen</th>\n",
       "      <th>Sex</th>\n",
       "      <th>Age_months</th>\n",
       "      <th>Weight (g)</th>\n",
       "      <th>Timepoint</th>\n",
       "      <th>Tumor Volume (mm3)</th>\n",
       "      <th>Metastatic Sites</th>\n",
       "    </tr>\n",
       "  </thead>\n",
       "  <tbody>\n",
       "    <tr>\n",
       "      <th>0</th>\n",
       "      <td>k403</td>\n",
       "      <td>Ramicane</td>\n",
       "      <td>Male</td>\n",
       "      <td>21</td>\n",
       "      <td>16</td>\n",
       "      <td>0</td>\n",
       "      <td>45.000000</td>\n",
       "      <td>0</td>\n",
       "    </tr>\n",
       "    <tr>\n",
       "      <th>1</th>\n",
       "      <td>k403</td>\n",
       "      <td>Ramicane</td>\n",
       "      <td>Male</td>\n",
       "      <td>21</td>\n",
       "      <td>16</td>\n",
       "      <td>5</td>\n",
       "      <td>38.825898</td>\n",
       "      <td>0</td>\n",
       "    </tr>\n",
       "    <tr>\n",
       "      <th>2</th>\n",
       "      <td>k403</td>\n",
       "      <td>Ramicane</td>\n",
       "      <td>Male</td>\n",
       "      <td>21</td>\n",
       "      <td>16</td>\n",
       "      <td>10</td>\n",
       "      <td>35.014271</td>\n",
       "      <td>1</td>\n",
       "    </tr>\n",
       "    <tr>\n",
       "      <th>3</th>\n",
       "      <td>k403</td>\n",
       "      <td>Ramicane</td>\n",
       "      <td>Male</td>\n",
       "      <td>21</td>\n",
       "      <td>16</td>\n",
       "      <td>15</td>\n",
       "      <td>34.223992</td>\n",
       "      <td>1</td>\n",
       "    </tr>\n",
       "    <tr>\n",
       "      <th>4</th>\n",
       "      <td>k403</td>\n",
       "      <td>Ramicane</td>\n",
       "      <td>Male</td>\n",
       "      <td>21</td>\n",
       "      <td>16</td>\n",
       "      <td>20</td>\n",
       "      <td>32.997729</td>\n",
       "      <td>1</td>\n",
       "    </tr>\n",
       "  </tbody>\n",
       "</table>\n",
       "</div>"
      ],
      "text/plain": [
       "  Mouse ID Drug Regimen   Sex  Age_months  Weight (g)  Timepoint  \\\n",
       "0     k403     Ramicane  Male          21          16          0   \n",
       "1     k403     Ramicane  Male          21          16          5   \n",
       "2     k403     Ramicane  Male          21          16         10   \n",
       "3     k403     Ramicane  Male          21          16         15   \n",
       "4     k403     Ramicane  Male          21          16         20   \n",
       "\n",
       "   Tumor Volume (mm3)  Metastatic Sites  \n",
       "0           45.000000                 0  \n",
       "1           38.825898                 0  \n",
       "2           35.014271                 1  \n",
       "3           34.223992                 1  \n",
       "4           32.997729                 1  "
      ]
     },
     "execution_count": 1,
     "metadata": {},
     "output_type": "execute_result"
    }
   ],
   "source": [
    "# Dependencies and Setup\n",
    "import matplotlib.pyplot as plt\n",
    "import pandas as pd\n",
    "import scipy.stats as st\n",
    "import numpy as np\n",
    "\n",
    "# Study data files\n",
    "mouse_metadata = \"data/Mouse_metadata.csv\"\n",
    "study_results = \"data/Study_results.csv\"\n",
    "\n",
    "# Read the mouse data and the study results\n",
    "mouse_metadata = pd.read_csv(mouse_metadata)\n",
    "study_results = pd.read_csv(study_results)\n",
    "\n",
    "# Combine the data into a single dataset\n",
    "merged = pd.merge(mouse_metadata, study_results, on = \"Mouse ID\", how = \"outer\")\n",
    "merged.head()"
   ]
  },
  {
   "cell_type": "markdown",
   "metadata": {},
   "source": [
    "## Summary statistics"
   ]
  },
  {
   "cell_type": "code",
   "execution_count": 2,
   "metadata": {},
   "outputs": [
    {
     "data": {
      "text/html": [
       "<div>\n",
       "<style scoped>\n",
       "    .dataframe tbody tr th:only-of-type {\n",
       "        vertical-align: middle;\n",
       "    }\n",
       "\n",
       "    .dataframe tbody tr th {\n",
       "        vertical-align: top;\n",
       "    }\n",
       "\n",
       "    .dataframe thead th {\n",
       "        text-align: right;\n",
       "    }\n",
       "</style>\n",
       "<table border=\"1\" class=\"dataframe\">\n",
       "  <thead>\n",
       "    <tr style=\"text-align: right;\">\n",
       "      <th></th>\n",
       "      <th></th>\n",
       "      <th>Tumor Volume Mean</th>\n",
       "      <th>Tumor Volume Median</th>\n",
       "      <th>Tumor Volume Standard Deviation</th>\n",
       "      <th>Tumor Volume SEM</th>\n",
       "    </tr>\n",
       "    <tr>\n",
       "      <th>Mouse ID</th>\n",
       "      <th>Drug Regimen</th>\n",
       "      <th></th>\n",
       "      <th></th>\n",
       "      <th></th>\n",
       "      <th></th>\n",
       "    </tr>\n",
       "  </thead>\n",
       "  <tbody>\n",
       "    <tr>\n",
       "      <th>a203</th>\n",
       "      <th>Infubinol</th>\n",
       "      <td>56.312708</td>\n",
       "      <td>55.983272</td>\n",
       "      <td>7.099792</td>\n",
       "      <td>2.245151</td>\n",
       "    </tr>\n",
       "    <tr>\n",
       "      <th>a251</th>\n",
       "      <th>Infubinol</th>\n",
       "      <td>55.237095</td>\n",
       "      <td>55.938620</td>\n",
       "      <td>7.193103</td>\n",
       "      <td>2.274659</td>\n",
       "    </tr>\n",
       "    <tr>\n",
       "      <th>a262</th>\n",
       "      <th>Placebo</th>\n",
       "      <td>58.611631</td>\n",
       "      <td>58.572588</td>\n",
       "      <td>9.206515</td>\n",
       "      <td>2.911356</td>\n",
       "    </tr>\n",
       "    <tr>\n",
       "      <th>a275</th>\n",
       "      <th>Ceftamin</th>\n",
       "      <td>52.770965</td>\n",
       "      <td>52.044750</td>\n",
       "      <td>6.026850</td>\n",
       "      <td>1.905857</td>\n",
       "    </tr>\n",
       "    <tr>\n",
       "      <th>a366</th>\n",
       "      <th>Stelasyn</th>\n",
       "      <td>54.639906</td>\n",
       "      <td>55.265582</td>\n",
       "      <td>6.198015</td>\n",
       "      <td>2.342629</td>\n",
       "    </tr>\n",
       "  </tbody>\n",
       "</table>\n",
       "</div>"
      ],
      "text/plain": [
       "                       Tumor Volume Mean  Tumor Volume Median  \\\n",
       "Mouse ID Drug Regimen                                           \n",
       "a203     Infubinol             56.312708            55.983272   \n",
       "a251     Infubinol             55.237095            55.938620   \n",
       "a262     Placebo               58.611631            58.572588   \n",
       "a275     Ceftamin              52.770965            52.044750   \n",
       "a366     Stelasyn              54.639906            55.265582   \n",
       "\n",
       "                       Tumor Volume Standard Deviation  Tumor Volume SEM  \n",
       "Mouse ID Drug Regimen                                                     \n",
       "a203     Infubinol                            7.099792          2.245151  \n",
       "a251     Infubinol                            7.193103          2.274659  \n",
       "a262     Placebo                              9.206515          2.911356  \n",
       "a275     Ceftamin                             6.026850          1.905857  \n",
       "a366     Stelasyn                             6.198015          2.342629  "
      ]
     },
     "execution_count": 2,
     "metadata": {},
     "output_type": "execute_result"
    }
   ],
   "source": [
    "# Generate a summary statistics table of mean, median, variance, standard deviation, and SEM of the tumor volume for each regimen\n",
    "grouped_merge = merged.groupby(['Mouse ID','Drug Regimen'])\n",
    "tumor_vol_mean = grouped_merge['Tumor Volume (mm3)'].mean()\n",
    "tumor_vol_median = grouped_merge['Tumor Volume (mm3)'].median()\n",
    "tumor_vol_strdev = grouped_merge['Tumor Volume (mm3)'].std()\n",
    "tumor_vol_sem = grouped_merge['Tumor Volume (mm3)'].sem()\n",
    "tumor_vol_df = pd.DataFrame({'Tumor Volume Mean' : tumor_vol_mean, 'Tumor Volume Median' : tumor_vol_median,\n",
    "                            'Tumor Volume Standard Deviation' : tumor_vol_strdev, \"Tumor Volume SEM\" : tumor_vol_sem})\n",
    "tumor_vol_df.head()"
   ]
  },
  {
   "cell_type": "markdown",
   "metadata": {},
   "source": [
    "## Bar plots"
   ]
  },
  {
   "cell_type": "code",
   "execution_count": 3,
   "metadata": {},
   "outputs": [
    {
     "data": {
      "text/plain": [
       "Text(0.5, 1.0, 'Number of Specimens per Drug Regimen')"
      ]
     },
     "execution_count": 3,
     "metadata": {},
     "output_type": "execute_result"
    },
    {
     "data": {
      "image/png": "[encoded data removed]",
      "text/plain": [
       "<Figure size 432x288 with 1 Axes>"
      ]
     },
     "metadata": {
      "needs_background": "light"
     },
     "output_type": "display_data"
    }
   ],
   "source": [
    "# Generate a bar plot showing number of data points for each treatment regimen using pandas\n",
    "tumor_vol_grouped = tumor_vol_df.groupby(['Drug Regimen'])\n",
    "drug_grouped = tumor_vol_grouped.count()\n",
    "drug_grouped['Tumor Volume Mean'].plot(kind = 'bar')\n",
    "plt.ylabel('Number of Specimens')\n",
    "plt.title('Number of Specimens per Drug Regimen')"
   ]
  },
  {
   "cell_type": "code",
   "execution_count": 4,
   "metadata": {},
   "outputs": [
    {
     "data": {
      "text/plain": [
       "Text(0.5, 1.0, 'Number of Specimens per Drug Regimen')"
      ]
     },
     "execution_count": 4,
     "metadata": {},
     "output_type": "execute_result"
    },
    {
     "data": {
      "image/png": "[encoded data removed]",
      "text/plain": [
       "<Figure size 432x288 with 1 Axes>"
      ]
     },
     "metadata": {
      "needs_background": "light"
     },
     "output_type": "display_data"
    }
   ],
   "source": [
    "# Generate a bar plot showing number of data points for each treatment regimen using pyplot\n",
    "drug_regimen = merged['Drug Regimen'].unique()\n",
    "\n",
    "plt.bar(drug_regimen, drug_grouped['Tumor Volume Mean'], color = 'r', alpha = 0.75, align = \"center\")\n",
    "plt.xticks(rotation = 'vertical')\n",
    "plt.xlabel('Drug Regimen')\n",
    "plt.ylabel('Number of Specimens')\n",
    "plt.title('Number of Specimens per Drug Regimen')"
   ]
  },
  {
   "cell_type": "markdown",
   "metadata": {},
   "source": [
    "## Pie plots"
   ]
  },
  {
   "cell_type": "code",
   "execution_count": 5,
   "metadata": {},
   "outputs": [
    {
     "data": {
      "text/plain": [
       "Text(0.5, 1.0, 'Percent Split of Males and Females in Specimens')"
      ]
     },
     "execution_count": 5,
     "metadata": {},
     "output_type": "execute_result"
    },
    {
     "data": {
      "image/png": "[encoded data removed]",
      "text/plain": [
       "<Figure size 432x288 with 1 Axes>"
      ]
     },
     "metadata": {},
     "output_type": "display_data"
    }
   ],
   "source": [
    "# Generate a pie plot showing the distribution of female versus male mice using pandas\n",
    "sex_grouped = merged.groupby(['Sex'])\n",
    "sex_df = sex_grouped.count()\n",
    "explode = [0, 0.05]\n",
    "sex_df['Mouse ID'].plot(kind = 'pie', explode = explode, fontsize = 12 )\n",
    "plt.legend(loc='upper left')\n",
    "plt.title('Percent Split of Males and Females in Specimens')"
   ]
  },
  {
   "cell_type": "code",
   "execution_count": 6,
   "metadata": {},
   "outputs": [
    {
     "data": {
      "text/plain": [
       "Text(0.5, 1.0, 'Percent Split of Males and Females in Specimens')"
      ]
     },
     "execution_count": 6,
     "metadata": {},
     "output_type": "execute_result"
    },
    {
     "data": {
      "image/png": "[encoded data removed]",
      "text/plain": [
       "<Figure size 432x288 with 1 Axes>"
      ]
     },
     "metadata": {},
     "output_type": "display_data"
    }
   ],
   "source": [
    "# Generate a pie plot showing the distribution of female versus male mice using pyplot\n",
    "sex = sex_grouped['Sex'].unique()\n",
    "plt.pie(sex_df['Mouse ID'], explode = explode, labels = sex )\n",
    "plt.legend(loc='upper left')\n",
    "plt.title('Percent Split of Males and Females in Specimens')"
   ]
  },
  {
   "cell_type": "markdown",
   "metadata": {},
   "source": [
    "## Quartiles, outliers and boxplots"
   ]
  },
  {
   "cell_type": "code",
   "execution_count": 7,
   "metadata": {},
   "outputs": [
    {
     "name": "stdout",
     "output_type": "stream",
     "text": [
      "Empty DataFrame\n",
      "Columns: [Mouse ID, Drug Regimen, Tumor Volume (mm3)]\n",
      "Index: []\n",
      "Empty DataFrame\n",
      "Columns: [Mouse ID, Drug Regimen, Tumor Volume (mm3)]\n",
      "Index: []\n",
      "Empty DataFrame\n",
      "Columns: [Mouse ID, Drug Regimen, Tumor Volume (mm3)]\n",
      "Index: []\n",
      "Empty DataFrame\n",
      "Columns: [Mouse ID, Drug Regimen, Tumor Volume (mm3)]\n",
      "Index: []\n",
      "There appear to be no possible outliers in our data.\n"
     ]
    }
   ],
   "source": [
    "# Calculate the final tumor volume of each mouse across four of the most promising treatment regimens. Calculate the IQR and quantitatively determine if there are any potential outliers.\n",
    "last_value_specimen = grouped_merge.tail(n = 1)\n",
    "last_value_group = last_value_specimen.groupby(['Drug Regimen', 'Mouse ID'])\n",
    "#Ramicane, Capomulin, propriva, Ceftamin have the lowest final tumor volume.\n",
    "ramicane = last_value_specimen.loc[last_value_specimen['Drug Regimen']=='Ramicane',['Mouse ID','Drug Regimen', 'Tumor Volume (mm3)']]\n",
    "capomulin = last_value_specimen.loc[last_value_specimen['Drug Regimen']=='Capomulin',['Mouse ID','Drug Regimen', 'Tumor Volume (mm3)']]\n",
    "propriva = last_value_specimen.loc[last_value_specimen['Drug Regimen']=='Propriva',['Mouse ID','Drug Regimen', 'Tumor Volume (mm3)']]\n",
    "ceftamin = last_value_specimen.loc[last_value_specimen['Drug Regimen']=='Ceftamin',['Mouse ID','Drug Regimen', 'Tumor Volume (mm3)']]\n",
    "#establish quartiles for each interesting drgu regimen\n",
    "\n",
    "r_quartiles = ramicane['Tumor Volume (mm3)'].quantile([0.25,0.5,0.75])\n",
    "r_lowq = r_quartiles[0.25]\n",
    "r_upq = r_quartiles[0.75]\n",
    "r_iqr = r_upq - r_lowq\n",
    "r_low = r_lowq - (1.5*r_iqr) \n",
    "r_up = r_upq + (1.5*r_iqr)\n",
    "outlier_r = ramicane.loc[(ramicane['Tumor Volume (mm3)']<r_low) | (ramicane['Tumor Volume (mm3)']>r_up)]\n",
    "\n",
    "cap_quartiles = capomulin['Tumor Volume (mm3)'].quantile([0.25,0.5,0.75])\n",
    "cap_lowq = cap_quartiles[0.25]\n",
    "cap_upq = cap_quartiles[0.75]\n",
    "cap_iqr = cap_upq - cap_lowq\n",
    "cap_low = cap_lowq - (1.5*cap_iqr) \n",
    "cap_up = cap_upq + (1.5*cap_iqr)\n",
    "outlier_cap = capomulin.loc[(capomulin['Tumor Volume (mm3)']<cap_low) | (capomulin['Tumor Volume (mm3)']>cap_up)]\n",
    "\n",
    "p_quartiles = propriva['Tumor Volume (mm3)'].quantile([0.25,0.5,0.75])\n",
    "p_lowq = p_quartiles[0.25]\n",
    "p_upq = p_quartiles[0.75]\n",
    "p_iqr = p_upq - p_lowq\n",
    "p_low = p_lowq - (1.5*p_iqr) \n",
    "p_up = p_upq + (1.5*p_iqr)\n",
    "outlier_p = propriva.loc[(propriva['Tumor Volume (mm3)']<p_low) | (propriva['Tumor Volume (mm3)']>p_up)]\n",
    "\n",
    "ceft_quartiles = ceftamin['Tumor Volume (mm3)'].quantile([0.25,0.5,0.75])\n",
    "ceft_lowq = ceft_quartiles[0.25]\n",
    "ceft_upq = ceft_quartiles[0.75]\n",
    "ceft_iqr = ceft_upq - ceft_lowq\n",
    "ceft_low = ceft_lowq - (1.5*ceft_iqr) \n",
    "ceft_up = ceft_upq + (1.5*ceft_iqr)\n",
    "outlier_ceft = ceftamin.loc[(ceftamin['Tumor Volume (mm3)']<ceft_low) | (ceftamin['Tumor Volume (mm3)']>ceft_up)]\n",
    "\n",
    "print(outlier_r)\n",
    "print(outlier_cap)\n",
    "print(outlier_p)\n",
    "print(outlier_ceft)\n",
    "print('There appear to be no possible outliers in our data.')"
   ]
  },
  {
   "cell_type": "code",
   "execution_count": 8,
   "metadata": {},
   "outputs": [
    {
     "data": {
      "text/plain": [
       "([<matplotlib.axis.XTick at 0x162725804e0>,\n",
       "  <matplotlib.axis.XTick at 0x1627256be10>,\n",
       "  <matplotlib.axis.XTick at 0x1627253fb70>,\n",
       "  <matplotlib.axis.XTick at 0x162725f4278>],\n",
       " <a list of 4 Text xticklabel objects>)"
      ]
     },
     "execution_count": 8,
     "metadata": {},
     "output_type": "execute_result"
    },
    {
     "data": {
      "image/png": "[encoded data removed]",
      "text/plain": [
       "<Figure size 432x288 with 1 Axes>"
      ]
     },
     "metadata": {
      "needs_background": "light"
     },
     "output_type": "display_data"
    }
   ],
   "source": [
    "# Generate a box plot of the final tumor volume of each mouse across four regimens of interest\n",
    "\n",
    "fig1, ax1 = plt.subplots()\n",
    "ax1.set_title('Drug Regimen Final tumor volumes (mm3)')\n",
    "ax1.set_ylabel('Tumor Volume (mm3)')\n",
    "ax1.boxplot([ramicane['Tumor Volume (mm3)'], capomulin['Tumor Volume (mm3)'], ceftamin['Tumor Volume (mm3)'], propriva['Tumor Volume (mm3)']])\n",
    "plt.xticks([1,2,3,4],['Ramicane', 'Capomulin', 'Ceftamin', 'Propriva'])\n"
   ]
  },
  {
   "cell_type": "markdown",
   "metadata": {},
   "source": [
    "## Line and scatter plots"
   ]
  },
  {
   "cell_type": "code",
   "execution_count": 13,
   "metadata": {},
   "outputs": [
    {
     "data": {
      "text/html": [
       "<div>\n",
       "<style scoped>\n",
       "    .dataframe tbody tr th:only-of-type {\n",
       "        vertical-align: middle;\n",
       "    }\n",
       "\n",
       "    .dataframe tbody tr th {\n",
       "        vertical-align: top;\n",
       "    }\n",
       "\n",
       "    .dataframe thead th {\n",
       "        text-align: right;\n",
       "    }\n",
       "</style>\n",
       "<table border=\"1\" class=\"dataframe\">\n",
       "  <thead>\n",
       "    <tr style=\"text-align: right;\">\n",
       "      <th></th>\n",
       "      <th>Mouse ID</th>\n",
       "      <th>Timepoint</th>\n",
       "      <th>Weight (g)</th>\n",
       "      <th>Tumor Volume (mm3)</th>\n",
       "    </tr>\n",
       "  </thead>\n",
       "  <tbody>\n",
       "    <tr>\n",
       "      <th>10</th>\n",
       "      <td>s185</td>\n",
       "      <td>0</td>\n",
       "      <td>17</td>\n",
       "      <td>45.000000</td>\n",
       "    </tr>\n",
       "    <tr>\n",
       "      <th>11</th>\n",
       "      <td>s185</td>\n",
       "      <td>5</td>\n",
       "      <td>17</td>\n",
       "      <td>43.878496</td>\n",
       "    </tr>\n",
       "    <tr>\n",
       "      <th>12</th>\n",
       "      <td>s185</td>\n",
       "      <td>10</td>\n",
       "      <td>17</td>\n",
       "      <td>37.614948</td>\n",
       "    </tr>\n",
       "    <tr>\n",
       "      <th>13</th>\n",
       "      <td>s185</td>\n",
       "      <td>15</td>\n",
       "      <td>17</td>\n",
       "      <td>38.177232</td>\n",
       "    </tr>\n",
       "    <tr>\n",
       "      <th>14</th>\n",
       "      <td>s185</td>\n",
       "      <td>20</td>\n",
       "      <td>17</td>\n",
       "      <td>36.866876</td>\n",
       "    </tr>\n",
       "    <tr>\n",
       "      <th>15</th>\n",
       "      <td>s185</td>\n",
       "      <td>25</td>\n",
       "      <td>17</td>\n",
       "      <td>33.949940</td>\n",
       "    </tr>\n",
       "    <tr>\n",
       "      <th>16</th>\n",
       "      <td>s185</td>\n",
       "      <td>30</td>\n",
       "      <td>17</td>\n",
       "      <td>32.959671</td>\n",
       "    </tr>\n",
       "    <tr>\n",
       "      <th>17</th>\n",
       "      <td>s185</td>\n",
       "      <td>35</td>\n",
       "      <td>17</td>\n",
       "      <td>28.328531</td>\n",
       "    </tr>\n",
       "    <tr>\n",
       "      <th>18</th>\n",
       "      <td>s185</td>\n",
       "      <td>40</td>\n",
       "      <td>17</td>\n",
       "      <td>25.472143</td>\n",
       "    </tr>\n",
       "    <tr>\n",
       "      <th>19</th>\n",
       "      <td>s185</td>\n",
       "      <td>45</td>\n",
       "      <td>17</td>\n",
       "      <td>23.343598</td>\n",
       "    </tr>\n",
       "  </tbody>\n",
       "</table>\n",
       "</div>"
      ],
      "text/plain": [
       "   Mouse ID  Timepoint  Weight (g)  Tumor Volume (mm3)\n",
       "10     s185          0          17           45.000000\n",
       "11     s185          5          17           43.878496\n",
       "12     s185         10          17           37.614948\n",
       "13     s185         15          17           38.177232\n",
       "14     s185         20          17           36.866876\n",
       "15     s185         25          17           33.949940\n",
       "16     s185         30          17           32.959671\n",
       "17     s185         35          17           28.328531\n",
       "18     s185         40          17           25.472143\n",
       "19     s185         45          17           23.343598"
      ]
     },
     "execution_count": 13,
     "metadata": {},
     "output_type": "execute_result"
    },
    {
     "data": {
      "image/png": "[encoded data removed]",
      "text/plain": [
       "<Figure size 432x288 with 1 Axes>"
      ]
     },
     "metadata": {
      "needs_background": "light"
     },
     "output_type": "display_data"
    }
   ],
   "source": [
    "# Generate a line plot of time point versus tumor volume for a mouse treated with Capomulin\n",
    "cap_specimens = merged.loc[merged['Drug Regimen'] == 'Capomulin', ['Mouse ID', 'Drug Regimen', 'Timepoint', 'Weight (g)', 'Tumor Volume (mm3)']]\n",
    "cap_specimen = cap_specimens.loc[cap_specimens['Mouse ID'] == 's185', ['Mouse ID', 'Timepoint', 'Weight (g)', 'Tumor Volume (mm3)']]\n",
    "cap_specimen.plot(kind=\"line\", x='Timepoint',y='Tumor Volume (mm3)')\n",
    "plt.title('Tumor Volume vs. Time')\n",
    "plt.ylabel('Tumor Volume (mm3)')\n",
    "cap_specimen"
   ]
  },
  {
   "cell_type": "code",
   "execution_count": 32,
   "metadata": {},
   "outputs": [
    {
     "data": {
      "text/plain": [
       "Text(0.5, 1.0, 'Weight vs. Average Tumor volume (mm3)')"
      ]
     },
     "execution_count": 32,
     "metadata": {},
     "output_type": "execute_result"
    },
    {
     "data": {
      "image/png": "[encoded data removed]",
      "text/plain": [
       "<Figure size 432x288 with 1 Axes>"
      ]
     },
     "metadata": {
      "needs_background": "light"
     },
     "output_type": "display_data"
    }
   ],
   "source": [
    "# Generate a scatter plot of mouse weight versus average tumor volume for the Capomulin regimen\n",
    "cap_specimens_grouped = cap_specimens.groupby(['Mouse ID'])\n",
    "cap_specimens_means = cap_specimens_grouped.mean()\n",
    "cap_specimens_means.plot(kind = \"scatter\", x='Weight (g)', y='Tumor Volume (mm3)', marker = 'o', color = 'r')\n",
    "plt.title('Weight vs. Average Tumor volume (mm3)')"
   ]
  },
  {
   "cell_type": "code",
   "execution_count": 57,
   "metadata": {},
   "outputs": [
    {
     "name": "stdout",
     "output_type": "stream",
     "text": [
      "The correlation between Weight and tumor volume is 0.84\n",
      "The line equation is: Projected Tumor Volume (mm3) = 0.95 * Weight (g) + 21.55\n"
     ]
    }
   ],
   "source": [
    "# Calculate the correlation coefficient and linear regression model for mouse weight and average tumor volume for the Capomulin regimen\n",
    "x_values = cap_specimens_means['Weight (g)']\n",
    "y_values = cap_specimens_means['Tumor Volume (mm3)']\n",
    "correlation = st.pearsonr(x_values,y_values)\n",
    "print(f'The correlation between Weight and tumor volume is {round(correlation[0],2)}')\n",
    "(slope, intercept, rvalue, pvalue, stderr) = st.linregress(x_values, y_values)\n",
    "line = f'The line equation is: Projected Tumor Volume (mm3) = {round(slope,2)} * Weight (g) + {round(intercept,2)}'\n",
    "print(line)"
   ]
  },
  {
   "cell_type": "code",
   "execution_count": null,
   "metadata": {},
   "outputs": [],
   "source": []
  }
 ],
 "metadata": {
  "anaconda-cloud": {},
  "kernelspec": {
   "display_name": "Python 3",
   "language": "python",
   "name": "python3"
  },
  "language_info": {
   "codemirror_mode": {
    "name": "ipython",
    "version": 3
   },
   "file_extension": ".py",
   "mimetype": "text/x-python",
   "name": "python",
   "nbconvert_exporter": "python",
   "pygments_lexer": "ipython3",
   "version": "3.6.9"
  }
 },
 "nbformat": 4,
 "nbformat_minor": 2
}
